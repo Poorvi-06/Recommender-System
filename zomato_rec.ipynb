{
 "cells": [
  {
   "cell_type": "markdown",
   "id": "c39ea84b",
   "metadata": {},
   "source": [
    "- Importing the required Libraries \n",
    "- Reading the dataset \n",
    "- Taking care of null values "
   ]
  },
  {
   "cell_type": "code",
   "execution_count": 41,
   "id": "56f8f927",
   "metadata": {},
   "outputs": [],
   "source": [
    "import pandas as pd \n",
    "import numpy as np \n",
    "import warnings as w\n",
    "w.filterwarnings('ignore')"
   ]
  },
  {
   "cell_type": "code",
   "execution_count": 42,
   "id": "313f25f4",
   "metadata": {},
   "outputs": [
    {
     "data": {
      "text/html": [
       "<div>\n",
       "<style scoped>\n",
       "    .dataframe tbody tr th:only-of-type {\n",
       "        vertical-align: middle;\n",
       "    }\n",
       "\n",
       "    .dataframe tbody tr th {\n",
       "        vertical-align: top;\n",
       "    }\n",
       "\n",
       "    .dataframe thead th {\n",
       "        text-align: right;\n",
       "    }\n",
       "</style>\n",
       "<table border=\"1\" class=\"dataframe\">\n",
       "  <thead>\n",
       "    <tr style=\"text-align: right;\">\n",
       "      <th></th>\n",
       "      <th>Restaurant_Name</th>\n",
       "      <th>Category</th>\n",
       "      <th>Pricing_for_2</th>\n",
       "      <th>Locality</th>\n",
       "      <th>Dining_Rating</th>\n",
       "      <th>Dining_Review_Count</th>\n",
       "      <th>Delivery_Rating</th>\n",
       "      <th>Delivery_Rating_Count</th>\n",
       "      <th>Website</th>\n",
       "      <th>Address</th>\n",
       "      <th>Phone_No</th>\n",
       "      <th>Latitude</th>\n",
       "      <th>Longitude</th>\n",
       "      <th>Known_for1</th>\n",
       "      <th>Known_for2</th>\n",
       "    </tr>\n",
       "  </thead>\n",
       "  <tbody>\n",
       "    <tr>\n",
       "      <th>0</th>\n",
       "      <td>Santè Spa Cuisine</td>\n",
       "      <td>Continental, Healthy Food, Mediterranean</td>\n",
       "      <td>1200</td>\n",
       "      <td>Koregaon Park, Pune</td>\n",
       "      <td>4.9</td>\n",
       "      <td>1469</td>\n",
       "      <td>3.9</td>\n",
       "      <td>588</td>\n",
       "      <td>https://www.zomato.com/pune/santè-spa-cuisine-...</td>\n",
       "      <td>Lane 1, Near Sunderban Resorts, Koregaon Park,...</td>\n",
       "      <td>9.18E+11</td>\n",
       "      <td>18.537416</td>\n",
       "      <td>73.888890</td>\n",
       "      <td>Bajra Risotto, Spinach Hummus, Whole Wheat Spa...</td>\n",
       "      <td>Nothing to Dislike, Healthy Menu, Healthy Food...</td>\n",
       "    </tr>\n",
       "    <tr>\n",
       "      <th>1</th>\n",
       "      <td>Le Plaisir</td>\n",
       "      <td>Cafe, Italian, Continental, Salad, Sandwich, P...</td>\n",
       "      <td>1000</td>\n",
       "      <td>Deccan Gymkhana, Pune</td>\n",
       "      <td>4.9</td>\n",
       "      <td>4808</td>\n",
       "      <td>4.3</td>\n",
       "      <td>4959</td>\n",
       "      <td>https://www.zomato.com/pune/le-plaisir-deccan-...</td>\n",
       "      <td>Survey 759/125, Rajkamal, Prabhat Road, Opposi...</td>\n",
       "      <td>9.19E+11</td>\n",
       "      <td>18.514254</td>\n",
       "      <td>73.838658</td>\n",
       "      <td>Expresso Panacota, Banana Nutella Crepe, New Y...</td>\n",
       "      <td>Classy Place, Classy Ambience, Perfect Evening...</td>\n",
       "    </tr>\n",
       "    <tr>\n",
       "      <th>2</th>\n",
       "      <td>Gong</td>\n",
       "      <td>Chinese, Sushi, Asian, Momos, Beverages</td>\n",
       "      <td>1700</td>\n",
       "      <td>Balewadi High Street, Baner, Pune</td>\n",
       "      <td>4.9</td>\n",
       "      <td>1788</td>\n",
       "      <td>4.3</td>\n",
       "      <td>1352</td>\n",
       "      <td>https://www.zomato.com/pune/gong-baner</td>\n",
       "      <td>Shop 22/23, Cummins India Office Campus, Balew...</td>\n",
       "      <td>9.19E+11</td>\n",
       "      <td>18.570471</td>\n",
       "      <td>73.774149</td>\n",
       "      <td>Chicken Minestrone Soup, Crab Ravioli, Ebi Tem...</td>\n",
       "      <td>Classy Place, Quality of Food, Amazing Interio...</td>\n",
       "    </tr>\n",
       "    <tr>\n",
       "      <th>3</th>\n",
       "      <td>The French Window Patisserie</td>\n",
       "      <td>Cafe, Desserts, French, Bakery, European</td>\n",
       "      <td>600</td>\n",
       "      <td>Koregaon Park, Pune</td>\n",
       "      <td>4.9</td>\n",
       "      <td>1643</td>\n",
       "      <td>4.4</td>\n",
       "      <td>1208</td>\n",
       "      <td>https://www.zomato.com/pune/the-french-window-...</td>\n",
       "      <td>Lane Number 5, Ganga Fortune Society, Meera Na...</td>\n",
       "      <td>9.20E+11</td>\n",
       "      <td>18.537432</td>\n",
       "      <td>73.897714</td>\n",
       "      <td>Trois Chocolat, Chocolate Flan, Mille Feuille,...</td>\n",
       "      <td>Bookshelf, Beautiful Cafe, Pretty Ambience, Pe...</td>\n",
       "    </tr>\n",
       "    <tr>\n",
       "      <th>4</th>\n",
       "      <td>Savya Rasa</td>\n",
       "      <td>South Indian, Mangalorean, Kerala, Chettinad, ...</td>\n",
       "      <td>2100</td>\n",
       "      <td>Koregaon Park, Pune</td>\n",
       "      <td>4.9</td>\n",
       "      <td>1283</td>\n",
       "      <td>4.3</td>\n",
       "      <td>446</td>\n",
       "      <td>https://www.zomato.com/pune/savya-rasa-koregao...</td>\n",
       "      <td>Flat 2, Survey 479 &amp; 480, Gera Serenity, North...</td>\n",
       "      <td>9.19E+11</td>\n",
       "      <td>18.538862</td>\n",
       "      <td>73.886621</td>\n",
       "      <td>Bun Paratha, Pallipalayam Kozhi, Palm Sugar, V...</td>\n",
       "      <td>Sophisticated, Worth the Price, Warm Ambience,...</td>\n",
       "    </tr>\n",
       "    <tr>\n",
       "      <th>...</th>\n",
       "      <td>...</td>\n",
       "      <td>...</td>\n",
       "      <td>...</td>\n",
       "      <td>...</td>\n",
       "      <td>...</td>\n",
       "      <td>...</td>\n",
       "      <td>...</td>\n",
       "      <td>...</td>\n",
       "      <td>...</td>\n",
       "      <td>...</td>\n",
       "      <td>...</td>\n",
       "      <td>...</td>\n",
       "      <td>...</td>\n",
       "      <td>...</td>\n",
       "      <td>...</td>\n",
       "    </tr>\n",
       "    <tr>\n",
       "      <th>4792</th>\n",
       "      <td>Atharva Pure Veg</td>\n",
       "      <td>North Indian, South Indian, Chinese, Fast Food...</td>\n",
       "      <td>600</td>\n",
       "      <td>Bhosari, Pune</td>\n",
       "      <td>3.0</td>\n",
       "      <td>45</td>\n",
       "      <td>NaN</td>\n",
       "      <td>0</td>\n",
       "      <td>https://www.zomato.com/pune/atharva-pure-veg-b...</td>\n",
       "      <td>Hajare Vasti, Pune-Nashik Highway, Moshi, Bhos...</td>\n",
       "      <td>9.20E+11</td>\n",
       "      <td>18.664086</td>\n",
       "      <td>73.848660</td>\n",
       "      <td>Bar Food, North Indian, Fast Food, Italian, St...</td>\n",
       "      <td>NaN</td>\n",
       "    </tr>\n",
       "    <tr>\n",
       "      <th>4793</th>\n",
       "      <td>Wow! Momo</td>\n",
       "      <td>Momos, Tibetan, Fast Food</td>\n",
       "      <td>400</td>\n",
       "      <td>Kothrud, Pune</td>\n",
       "      <td>3.0</td>\n",
       "      <td>63</td>\n",
       "      <td>4.1</td>\n",
       "      <td>1212</td>\n",
       "      <td>https://www.zomato.com/pune/wow-momo-kothrud</td>\n",
       "      <td>Shop 32, Ground Floor, Karishma Society, Kothr...</td>\n",
       "      <td>9.18E+11</td>\n",
       "      <td>18.502520</td>\n",
       "      <td>73.821746</td>\n",
       "      <td>Student Crowd, Elaborate Menu, Great Portions,...</td>\n",
       "      <td>NaN</td>\n",
       "    </tr>\n",
       "    <tr>\n",
       "      <th>4794</th>\n",
       "      <td>Fried Chicken Destination</td>\n",
       "      <td>Fast Food</td>\n",
       "      <td>400</td>\n",
       "      <td>Kothrud, Pune</td>\n",
       "      <td>3.0</td>\n",
       "      <td>7</td>\n",
       "      <td>3.9</td>\n",
       "      <td>359</td>\n",
       "      <td>https://www.zomato.com/pune/fried-chicken-dest...</td>\n",
       "      <td>Shop 5, Khandoba Sadan Building, Kothrud, Pune</td>\n",
       "      <td>9.18E+11</td>\n",
       "      <td>18.501703</td>\n",
       "      <td>73.813066</td>\n",
       "      <td>Worth the Money, Timely Service, Great Portion...</td>\n",
       "      <td>NaN</td>\n",
       "    </tr>\n",
       "    <tr>\n",
       "      <th>4795</th>\n",
       "      <td>Hotel Shree Yash</td>\n",
       "      <td>North Indian, Biryani, Mughlai, Maharashtrian,...</td>\n",
       "      <td>1000</td>\n",
       "      <td>Bhosari, Pune</td>\n",
       "      <td>3.0</td>\n",
       "      <td>20</td>\n",
       "      <td>4.1</td>\n",
       "      <td>491</td>\n",
       "      <td>https://www.zomato.com/pune/hotel-shree-yash-b...</td>\n",
       "      <td>108, S Block, MIDC, Bhosari, Pune</td>\n",
       "      <td>9.12E+11</td>\n",
       "      <td>18.623934</td>\n",
       "      <td>73.839943</td>\n",
       "      <td>NaN</td>\n",
       "      <td>NaN</td>\n",
       "    </tr>\n",
       "    <tr>\n",
       "      <th>4796</th>\n",
       "      <td>Vegeta Express</td>\n",
       "      <td>North Indian, Continental, Chinese, Desserts, ...</td>\n",
       "      <td>850</td>\n",
       "      <td>Wanowrie, Pune</td>\n",
       "      <td>3.0</td>\n",
       "      <td>130</td>\n",
       "      <td>NaN</td>\n",
       "      <td>8</td>\n",
       "      <td>https://www.zomato.com/pune/vegeta-express-wan...</td>\n",
       "      <td>Shop 740, 7th Floor, Marvel Vista Building, Ne...</td>\n",
       "      <td>9.19E+11</td>\n",
       "      <td>18.486083</td>\n",
       "      <td>73.888467</td>\n",
       "      <td>Rooftop Ambience, Good Place, Prices, Music, N...</td>\n",
       "      <td>NaN</td>\n",
       "    </tr>\n",
       "  </tbody>\n",
       "</table>\n",
       "<p>4797 rows × 15 columns</p>\n",
       "</div>"
      ],
      "text/plain": [
       "                   Restaurant_Name  \\\n",
       "0                Santè Spa Cuisine   \n",
       "1                       Le Plaisir   \n",
       "2                             Gong   \n",
       "3     The French Window Patisserie   \n",
       "4                       Savya Rasa   \n",
       "...                            ...   \n",
       "4792              Atharva Pure Veg   \n",
       "4793                     Wow! Momo   \n",
       "4794     Fried Chicken Destination   \n",
       "4795              Hotel Shree Yash   \n",
       "4796                Vegeta Express   \n",
       "\n",
       "                                               Category  Pricing_for_2  \\\n",
       "0              Continental, Healthy Food, Mediterranean           1200   \n",
       "1     Cafe, Italian, Continental, Salad, Sandwich, P...           1000   \n",
       "2               Chinese, Sushi, Asian, Momos, Beverages           1700   \n",
       "3              Cafe, Desserts, French, Bakery, European            600   \n",
       "4     South Indian, Mangalorean, Kerala, Chettinad, ...           2100   \n",
       "...                                                 ...            ...   \n",
       "4792  North Indian, South Indian, Chinese, Fast Food...            600   \n",
       "4793                          Momos, Tibetan, Fast Food            400   \n",
       "4794                                          Fast Food            400   \n",
       "4795  North Indian, Biryani, Mughlai, Maharashtrian,...           1000   \n",
       "4796  North Indian, Continental, Chinese, Desserts, ...            850   \n",
       "\n",
       "                                Locality  Dining_Rating  Dining_Review_Count  \\\n",
       "0                    Koregaon Park, Pune            4.9                 1469   \n",
       "1                  Deccan Gymkhana, Pune            4.9                 4808   \n",
       "2      Balewadi High Street, Baner, Pune            4.9                 1788   \n",
       "3                    Koregaon Park, Pune            4.9                 1643   \n",
       "4                    Koregaon Park, Pune            4.9                 1283   \n",
       "...                                  ...            ...                  ...   \n",
       "4792                       Bhosari, Pune            3.0                   45   \n",
       "4793                       Kothrud, Pune            3.0                   63   \n",
       "4794                       Kothrud, Pune            3.0                    7   \n",
       "4795                       Bhosari, Pune            3.0                   20   \n",
       "4796                      Wanowrie, Pune            3.0                  130   \n",
       "\n",
       "      Delivery_Rating  Delivery_Rating_Count  \\\n",
       "0                 3.9                    588   \n",
       "1                 4.3                   4959   \n",
       "2                 4.3                   1352   \n",
       "3                 4.4                   1208   \n",
       "4                 4.3                    446   \n",
       "...               ...                    ...   \n",
       "4792              NaN                      0   \n",
       "4793              4.1                   1212   \n",
       "4794              3.9                    359   \n",
       "4795              4.1                    491   \n",
       "4796              NaN                      8   \n",
       "\n",
       "                                                Website  \\\n",
       "0     https://www.zomato.com/pune/santè-spa-cuisine-...   \n",
       "1     https://www.zomato.com/pune/le-plaisir-deccan-...   \n",
       "2                https://www.zomato.com/pune/gong-baner   \n",
       "3     https://www.zomato.com/pune/the-french-window-...   \n",
       "4     https://www.zomato.com/pune/savya-rasa-koregao...   \n",
       "...                                                 ...   \n",
       "4792  https://www.zomato.com/pune/atharva-pure-veg-b...   \n",
       "4793       https://www.zomato.com/pune/wow-momo-kothrud   \n",
       "4794  https://www.zomato.com/pune/fried-chicken-dest...   \n",
       "4795  https://www.zomato.com/pune/hotel-shree-yash-b...   \n",
       "4796  https://www.zomato.com/pune/vegeta-express-wan...   \n",
       "\n",
       "                                                Address  Phone_No   Latitude  \\\n",
       "0     Lane 1, Near Sunderban Resorts, Koregaon Park,...  9.18E+11  18.537416   \n",
       "1     Survey 759/125, Rajkamal, Prabhat Road, Opposi...  9.19E+11  18.514254   \n",
       "2     Shop 22/23, Cummins India Office Campus, Balew...  9.19E+11  18.570471   \n",
       "3     Lane Number 5, Ganga Fortune Society, Meera Na...  9.20E+11  18.537432   \n",
       "4     Flat 2, Survey 479 & 480, Gera Serenity, North...  9.19E+11  18.538862   \n",
       "...                                                 ...       ...        ...   \n",
       "4792  Hajare Vasti, Pune-Nashik Highway, Moshi, Bhos...  9.20E+11  18.664086   \n",
       "4793  Shop 32, Ground Floor, Karishma Society, Kothr...  9.18E+11  18.502520   \n",
       "4794     Shop 5, Khandoba Sadan Building, Kothrud, Pune  9.18E+11  18.501703   \n",
       "4795                  108, S Block, MIDC, Bhosari, Pune  9.12E+11  18.623934   \n",
       "4796  Shop 740, 7th Floor, Marvel Vista Building, Ne...  9.19E+11  18.486083   \n",
       "\n",
       "      Longitude                                         Known_for1  \\\n",
       "0     73.888890  Bajra Risotto, Spinach Hummus, Whole Wheat Spa...   \n",
       "1     73.838658  Expresso Panacota, Banana Nutella Crepe, New Y...   \n",
       "2     73.774149  Chicken Minestrone Soup, Crab Ravioli, Ebi Tem...   \n",
       "3     73.897714  Trois Chocolat, Chocolate Flan, Mille Feuille,...   \n",
       "4     73.886621  Bun Paratha, Pallipalayam Kozhi, Palm Sugar, V...   \n",
       "...         ...                                                ...   \n",
       "4792  73.848660  Bar Food, North Indian, Fast Food, Italian, St...   \n",
       "4793  73.821746  Student Crowd, Elaborate Menu, Great Portions,...   \n",
       "4794  73.813066  Worth the Money, Timely Service, Great Portion...   \n",
       "4795  73.839943                                                NaN   \n",
       "4796  73.888467  Rooftop Ambience, Good Place, Prices, Music, N...   \n",
       "\n",
       "                                             Known_for2  \n",
       "0     Nothing to Dislike, Healthy Menu, Healthy Food...  \n",
       "1     Classy Place, Classy Ambience, Perfect Evening...  \n",
       "2     Classy Place, Quality of Food, Amazing Interio...  \n",
       "3     Bookshelf, Beautiful Cafe, Pretty Ambience, Pe...  \n",
       "4     Sophisticated, Worth the Price, Warm Ambience,...  \n",
       "...                                                 ...  \n",
       "4792                                                NaN  \n",
       "4793                                                NaN  \n",
       "4794                                                NaN  \n",
       "4795                                                NaN  \n",
       "4796                                                NaN  \n",
       "\n",
       "[4797 rows x 15 columns]"
      ]
     },
     "execution_count": 42,
     "metadata": {},
     "output_type": "execute_result"
    }
   ],
   "source": [
    "df = pd.read_csv(r\"Pune Restaurants.csv\")\n",
    "df"
   ]
  },
  {
   "cell_type": "markdown",
   "id": "dda39dd1",
   "metadata": {},
   "source": [
    "- After checking the null values we can see 3 columns have null values \n",
    "- I've filled delivery_rating with median \n",
    "- I've filled null values for known_for1 by using ffill and bfill\n",
    "- I've dropped Known_for2 column"
   ]
  },
  {
   "cell_type": "code",
   "execution_count": 43,
   "id": "adc8d735",
   "metadata": {},
   "outputs": [
    {
     "data": {
      "text/plain": [
       "Restaurant_Name             0\n",
       "Category                    0\n",
       "Pricing_for_2               0\n",
       "Locality                    0\n",
       "Dining_Rating               0\n",
       "Dining_Review_Count         0\n",
       "Delivery_Rating          1571\n",
       "Delivery_Rating_Count       0\n",
       "Website                     0\n",
       "Address                     0\n",
       "Phone_No                    0\n",
       "Latitude                    0\n",
       "Longitude                   0\n",
       "Known_for1                642\n",
       "Known_for2               3719\n",
       "dtype: int64"
      ]
     },
     "execution_count": 43,
     "metadata": {},
     "output_type": "execute_result"
    }
   ],
   "source": [
    "df.isnull().sum()"
   ]
  },
  {
   "cell_type": "code",
   "execution_count": 44,
   "id": "d6811626",
   "metadata": {},
   "outputs": [
    {
     "data": {
      "text/plain": [
       "Text(0, 0.5, 'Frequency')"
      ]
     },
     "execution_count": 44,
     "metadata": {},
     "output_type": "execute_result"
    },
    {
     "data": {
      "image/png": "[encoded data removed]",
      "text/plain": [
       "<Figure size 640x480 with 1 Axes>"
      ]
     },
     "metadata": {},
     "output_type": "display_data"
    }
   ],
   "source": [
    "import matplotlib.pyplot as plt\n",
    "import pandas as pd\n",
    "\n",
    "# Extract the 'delivery_rating' column from your DataFrame\n",
    "Delivery_Rating_data = df['Delivery_Rating']\n",
    "\n",
    "# Create the histogram\n",
    "plt.hist(Delivery_Rating_data, bins=10)  # Adjust the number of bins as needed\n",
    "\n",
    "# Optional: Customize the plot\n",
    "plt.title('Delivery Rating Histogram')\n",
    "plt.xlabel('Rating')\n",
    "plt.ylabel('Frequency')"
   ]
  },
  {
   "cell_type": "code",
   "execution_count": 45,
   "id": "1ed83d30",
   "metadata": {},
   "outputs": [],
   "source": [
    "# Calculate the median of the 'Delivery_Rating' column\n",
    "median_rating = df['Delivery_Rating'].median()"
   ]
  },
  {
   "cell_type": "code",
   "execution_count": 46,
   "id": "2155e2d8",
   "metadata": {},
   "outputs": [],
   "source": [
    "# Fill the missing values with the median\n",
    "df['Delivery_Rating'].fillna(median_rating, inplace=True)"
   ]
  },
  {
   "cell_type": "code",
   "execution_count": 47,
   "id": "e0cf40b9",
   "metadata": {},
   "outputs": [
    {
     "data": {
      "text/plain": [
       "Restaurant_Name             0\n",
       "Category                    0\n",
       "Pricing_for_2               0\n",
       "Locality                    0\n",
       "Dining_Rating               0\n",
       "Dining_Review_Count         0\n",
       "Delivery_Rating             0\n",
       "Delivery_Rating_Count       0\n",
       "Website                     0\n",
       "Address                     0\n",
       "Phone_No                    0\n",
       "Latitude                    0\n",
       "Longitude                   0\n",
       "Known_for1                642\n",
       "Known_for2               3719\n",
       "dtype: int64"
      ]
     },
     "execution_count": 47,
     "metadata": {},
     "output_type": "execute_result"
    }
   ],
   "source": [
    "df.isna().sum()"
   ]
  },
  {
   "cell_type": "code",
   "execution_count": 48,
   "id": "bc7dacd0",
   "metadata": {},
   "outputs": [],
   "source": [
    "#Going to forward fill the Known_for1 column \n",
    "# Forward fill missing values\n",
    "df['Known_for1'].fillna(method='ffill', inplace=True)\n",
    "# Backward fill missing values\n",
    "df['Known_for1'].fillna(method='bfill', inplace=True)"
   ]
  },
  {
   "cell_type": "code",
   "execution_count": 49,
   "id": "ea103f0f",
   "metadata": {},
   "outputs": [
    {
     "data": {
      "text/plain": [
       "Restaurant_Name             0\n",
       "Category                    0\n",
       "Pricing_for_2               0\n",
       "Locality                    0\n",
       "Dining_Rating               0\n",
       "Dining_Review_Count         0\n",
       "Delivery_Rating             0\n",
       "Delivery_Rating_Count       0\n",
       "Website                     0\n",
       "Address                     0\n",
       "Phone_No                    0\n",
       "Latitude                    0\n",
       "Longitude                   0\n",
       "Known_for1                  0\n",
       "Known_for2               3719\n",
       "dtype: int64"
      ]
     },
     "execution_count": 49,
     "metadata": {},
     "output_type": "execute_result"
    }
   ],
   "source": [
    "#checking if the values are imputed \n",
    "df.isna().sum()"
   ]
  },
  {
   "cell_type": "markdown",
   "id": "13b33bf3",
   "metadata": {},
   "source": [
    "- here is the clean dataframe "
   ]
  },
  {
   "cell_type": "code",
   "execution_count": 50,
   "id": "f0497212",
   "metadata": {},
   "outputs": [],
   "source": [
    "#creating a new dataframe and droppimg \"known_for2\" column \n",
    "df = df[['Restaurant_Name','Category','Pricing_for_2','Locality','Dining_Rating','Delivery_Rating','Website','Known_for1']]"
   ]
  },
  {
   "cell_type": "code",
   "execution_count": 51,
   "id": "1b7c5623",
   "metadata": {},
   "outputs": [
    {
     "data": {
      "text/html": [
       "<div>\n",
       "<style scoped>\n",
       "    .dataframe tbody tr th:only-of-type {\n",
       "        vertical-align: middle;\n",
       "    }\n",
       "\n",
       "    .dataframe tbody tr th {\n",
       "        vertical-align: top;\n",
       "    }\n",
       "\n",
       "    .dataframe thead th {\n",
       "        text-align: right;\n",
       "    }\n",
       "</style>\n",
       "<table border=\"1\" class=\"dataframe\">\n",
       "  <thead>\n",
       "    <tr style=\"text-align: right;\">\n",
       "      <th></th>\n",
       "      <th>Restaurant_Name</th>\n",
       "      <th>Category</th>\n",
       "      <th>Pricing_for_2</th>\n",
       "      <th>Locality</th>\n",
       "      <th>Dining_Rating</th>\n",
       "      <th>Delivery_Rating</th>\n",
       "      <th>Website</th>\n",
       "      <th>Known_for1</th>\n",
       "    </tr>\n",
       "  </thead>\n",
       "  <tbody>\n",
       "    <tr>\n",
       "      <th>0</th>\n",
       "      <td>Santè Spa Cuisine</td>\n",
       "      <td>Continental, Healthy Food, Mediterranean</td>\n",
       "      <td>1200</td>\n",
       "      <td>Koregaon Park, Pune</td>\n",
       "      <td>4.9</td>\n",
       "      <td>3.9</td>\n",
       "      <td>https://www.zomato.com/pune/santè-spa-cuisine-...</td>\n",
       "      <td>Bajra Risotto, Spinach Hummus, Whole Wheat Spa...</td>\n",
       "    </tr>\n",
       "    <tr>\n",
       "      <th>1</th>\n",
       "      <td>Le Plaisir</td>\n",
       "      <td>Cafe, Italian, Continental, Salad, Sandwich, P...</td>\n",
       "      <td>1000</td>\n",
       "      <td>Deccan Gymkhana, Pune</td>\n",
       "      <td>4.9</td>\n",
       "      <td>4.3</td>\n",
       "      <td>https://www.zomato.com/pune/le-plaisir-deccan-...</td>\n",
       "      <td>Expresso Panacota, Banana Nutella Crepe, New Y...</td>\n",
       "    </tr>\n",
       "    <tr>\n",
       "      <th>2</th>\n",
       "      <td>Gong</td>\n",
       "      <td>Chinese, Sushi, Asian, Momos, Beverages</td>\n",
       "      <td>1700</td>\n",
       "      <td>Balewadi High Street, Baner, Pune</td>\n",
       "      <td>4.9</td>\n",
       "      <td>4.3</td>\n",
       "      <td>https://www.zomato.com/pune/gong-baner</td>\n",
       "      <td>Chicken Minestrone Soup, Crab Ravioli, Ebi Tem...</td>\n",
       "    </tr>\n",
       "    <tr>\n",
       "      <th>3</th>\n",
       "      <td>The French Window Patisserie</td>\n",
       "      <td>Cafe, Desserts, French, Bakery, European</td>\n",
       "      <td>600</td>\n",
       "      <td>Koregaon Park, Pune</td>\n",
       "      <td>4.9</td>\n",
       "      <td>4.4</td>\n",
       "      <td>https://www.zomato.com/pune/the-french-window-...</td>\n",
       "      <td>Trois Chocolat, Chocolate Flan, Mille Feuille,...</td>\n",
       "    </tr>\n",
       "    <tr>\n",
       "      <th>4</th>\n",
       "      <td>Savya Rasa</td>\n",
       "      <td>South Indian, Mangalorean, Kerala, Chettinad, ...</td>\n",
       "      <td>2100</td>\n",
       "      <td>Koregaon Park, Pune</td>\n",
       "      <td>4.9</td>\n",
       "      <td>4.3</td>\n",
       "      <td>https://www.zomato.com/pune/savya-rasa-koregao...</td>\n",
       "      <td>Bun Paratha, Pallipalayam Kozhi, Palm Sugar, V...</td>\n",
       "    </tr>\n",
       "    <tr>\n",
       "      <th>...</th>\n",
       "      <td>...</td>\n",
       "      <td>...</td>\n",
       "      <td>...</td>\n",
       "      <td>...</td>\n",
       "      <td>...</td>\n",
       "      <td>...</td>\n",
       "      <td>...</td>\n",
       "      <td>...</td>\n",
       "    </tr>\n",
       "    <tr>\n",
       "      <th>4792</th>\n",
       "      <td>Atharva Pure Veg</td>\n",
       "      <td>North Indian, South Indian, Chinese, Fast Food...</td>\n",
       "      <td>600</td>\n",
       "      <td>Bhosari, Pune</td>\n",
       "      <td>3.0</td>\n",
       "      <td>3.9</td>\n",
       "      <td>https://www.zomato.com/pune/atharva-pure-veg-b...</td>\n",
       "      <td>Bar Food, North Indian, Fast Food, Italian, St...</td>\n",
       "    </tr>\n",
       "    <tr>\n",
       "      <th>4793</th>\n",
       "      <td>Wow! Momo</td>\n",
       "      <td>Momos, Tibetan, Fast Food</td>\n",
       "      <td>400</td>\n",
       "      <td>Kothrud, Pune</td>\n",
       "      <td>3.0</td>\n",
       "      <td>4.1</td>\n",
       "      <td>https://www.zomato.com/pune/wow-momo-kothrud</td>\n",
       "      <td>Student Crowd, Elaborate Menu, Great Portions,...</td>\n",
       "    </tr>\n",
       "    <tr>\n",
       "      <th>4794</th>\n",
       "      <td>Fried Chicken Destination</td>\n",
       "      <td>Fast Food</td>\n",
       "      <td>400</td>\n",
       "      <td>Kothrud, Pune</td>\n",
       "      <td>3.0</td>\n",
       "      <td>3.9</td>\n",
       "      <td>https://www.zomato.com/pune/fried-chicken-dest...</td>\n",
       "      <td>Worth the Money, Timely Service, Great Portion...</td>\n",
       "    </tr>\n",
       "    <tr>\n",
       "      <th>4795</th>\n",
       "      <td>Hotel Shree Yash</td>\n",
       "      <td>North Indian, Biryani, Mughlai, Maharashtrian,...</td>\n",
       "      <td>1000</td>\n",
       "      <td>Bhosari, Pune</td>\n",
       "      <td>3.0</td>\n",
       "      <td>4.1</td>\n",
       "      <td>https://www.zomato.com/pune/hotel-shree-yash-b...</td>\n",
       "      <td>Worth the Money, Timely Service, Great Portion...</td>\n",
       "    </tr>\n",
       "    <tr>\n",
       "      <th>4796</th>\n",
       "      <td>Vegeta Express</td>\n",
       "      <td>North Indian, Continental, Chinese, Desserts, ...</td>\n",
       "      <td>850</td>\n",
       "      <td>Wanowrie, Pune</td>\n",
       "      <td>3.0</td>\n",
       "      <td>3.9</td>\n",
       "      <td>https://www.zomato.com/pune/vegeta-express-wan...</td>\n",
       "      <td>Rooftop Ambience, Good Place, Prices, Music, N...</td>\n",
       "    </tr>\n",
       "  </tbody>\n",
       "</table>\n",
       "<p>4797 rows × 8 columns</p>\n",
       "</div>"
      ],
      "text/plain": [
       "                   Restaurant_Name  \\\n",
       "0                Santè Spa Cuisine   \n",
       "1                       Le Plaisir   \n",
       "2                             Gong   \n",
       "3     The French Window Patisserie   \n",
       "4                       Savya Rasa   \n",
       "...                            ...   \n",
       "4792              Atharva Pure Veg   \n",
       "4793                     Wow! Momo   \n",
       "4794     Fried Chicken Destination   \n",
       "4795              Hotel Shree Yash   \n",
       "4796                Vegeta Express   \n",
       "\n",
       "                                               Category  Pricing_for_2  \\\n",
       "0              Continental, Healthy Food, Mediterranean           1200   \n",
       "1     Cafe, Italian, Continental, Salad, Sandwich, P...           1000   \n",
       "2               Chinese, Sushi, Asian, Momos, Beverages           1700   \n",
       "3              Cafe, Desserts, French, Bakery, European            600   \n",
       "4     South Indian, Mangalorean, Kerala, Chettinad, ...           2100   \n",
       "...                                                 ...            ...   \n",
       "4792  North Indian, South Indian, Chinese, Fast Food...            600   \n",
       "4793                          Momos, Tibetan, Fast Food            400   \n",
       "4794                                          Fast Food            400   \n",
       "4795  North Indian, Biryani, Mughlai, Maharashtrian,...           1000   \n",
       "4796  North Indian, Continental, Chinese, Desserts, ...            850   \n",
       "\n",
       "                                Locality  Dining_Rating  Delivery_Rating  \\\n",
       "0                    Koregaon Park, Pune            4.9              3.9   \n",
       "1                  Deccan Gymkhana, Pune            4.9              4.3   \n",
       "2      Balewadi High Street, Baner, Pune            4.9              4.3   \n",
       "3                    Koregaon Park, Pune            4.9              4.4   \n",
       "4                    Koregaon Park, Pune            4.9              4.3   \n",
       "...                                  ...            ...              ...   \n",
       "4792                       Bhosari, Pune            3.0              3.9   \n",
       "4793                       Kothrud, Pune            3.0              4.1   \n",
       "4794                       Kothrud, Pune            3.0              3.9   \n",
       "4795                       Bhosari, Pune            3.0              4.1   \n",
       "4796                      Wanowrie, Pune            3.0              3.9   \n",
       "\n",
       "                                                Website  \\\n",
       "0     https://www.zomato.com/pune/santè-spa-cuisine-...   \n",
       "1     https://www.zomato.com/pune/le-plaisir-deccan-...   \n",
       "2                https://www.zomato.com/pune/gong-baner   \n",
       "3     https://www.zomato.com/pune/the-french-window-...   \n",
       "4     https://www.zomato.com/pune/savya-rasa-koregao...   \n",
       "...                                                 ...   \n",
       "4792  https://www.zomato.com/pune/atharva-pure-veg-b...   \n",
       "4793       https://www.zomato.com/pune/wow-momo-kothrud   \n",
       "4794  https://www.zomato.com/pune/fried-chicken-dest...   \n",
       "4795  https://www.zomato.com/pune/hotel-shree-yash-b...   \n",
       "4796  https://www.zomato.com/pune/vegeta-express-wan...   \n",
       "\n",
       "                                             Known_for1  \n",
       "0     Bajra Risotto, Spinach Hummus, Whole Wheat Spa...  \n",
       "1     Expresso Panacota, Banana Nutella Crepe, New Y...  \n",
       "2     Chicken Minestrone Soup, Crab Ravioli, Ebi Tem...  \n",
       "3     Trois Chocolat, Chocolate Flan, Mille Feuille,...  \n",
       "4     Bun Paratha, Pallipalayam Kozhi, Palm Sugar, V...  \n",
       "...                                                 ...  \n",
       "4792  Bar Food, North Indian, Fast Food, Italian, St...  \n",
       "4793  Student Crowd, Elaborate Menu, Great Portions,...  \n",
       "4794  Worth the Money, Timely Service, Great Portion...  \n",
       "4795  Worth the Money, Timely Service, Great Portion...  \n",
       "4796  Rooftop Ambience, Good Place, Prices, Music, N...  \n",
       "\n",
       "[4797 rows x 8 columns]"
      ]
     },
     "execution_count": 51,
     "metadata": {},
     "output_type": "execute_result"
    }
   ],
   "source": [
    "df"
   ]
  },
  {
   "cell_type": "markdown",
   "id": "d2ca3650",
   "metadata": {},
   "source": [
    "Here I've done some basic text processing \n",
    "- removed punctuations \n",
    "- removed stopwords \n",
    "- Conversion to lowercase"
   ]
  },
  {
   "cell_type": "code",
   "execution_count": 52,
   "id": "9610b453",
   "metadata": {},
   "outputs": [],
   "source": [
    "#Preprocessing the category column \n",
    "import neattext as nt\n",
    "\n",
    "#To remove punctuations from the desired column\n",
    "df['Category']=df['Category'].apply(nt.remove_punctuations)\n",
    "\n",
    "#To remove stopwords\n",
    "df['Category']=df['Category'].apply(nt.remove_stopwords)\n",
    "\n",
    "#To lowercase everything\n",
    "df['Category'] = df['Category'].str.lower()"
   ]
  },
  {
   "cell_type": "code",
   "execution_count": 53,
   "id": "8ebe7d41",
   "metadata": {},
   "outputs": [
    {
     "data": {
      "text/plain": [
       "0                  continental healthy food mediterranean\n",
       "1       cafe italian continental salad sandwich pizza ...\n",
       "2                     chinese sushi asian momos beverages\n",
       "3                    cafe desserts french bakery european\n",
       "4       south indian mangalorean kerala chettinad beve...\n",
       "                              ...                        \n",
       "4792    north indian south indian chinese fast food de...\n",
       "4793                              momos tibetan fast food\n",
       "4794                                            fast food\n",
       "4795    north indian biryani mughlai maharashtrian sea...\n",
       "4796    north indian continental chinese desserts beve...\n",
       "Name: Category, Length: 4797, dtype: object"
      ]
     },
     "execution_count": 53,
     "metadata": {},
     "output_type": "execute_result"
    }
   ],
   "source": [
    "df['Category']"
   ]
  },
  {
   "cell_type": "code",
   "execution_count": 54,
   "id": "dbd061aa",
   "metadata": {},
   "outputs": [],
   "source": [
    "#To remove punctuations from the desired column\n",
    "df['Locality']=df['Locality'].apply(nt.remove_punctuations)\n",
    "\n",
    "#To remove stopwords\n",
    "df['Locality']=df['Locality'].apply(nt.remove_stopwords)\n",
    "\n",
    "#To lowercase everything\n",
    "df['Locality'] = df['Locality'].str.lower()"
   ]
  },
  {
   "cell_type": "code",
   "execution_count": 55,
   "id": "9a8d7863",
   "metadata": {},
   "outputs": [
    {
     "data": {
      "text/plain": [
       "0                    koregaon park pune\n",
       "1                  deccan gymkhana pune\n",
       "2       balewadi high street baner pune\n",
       "3                    koregaon park pune\n",
       "4                    koregaon park pune\n",
       "                     ...               \n",
       "4792                       bhosari pune\n",
       "4793                       kothrud pune\n",
       "4794                       kothrud pune\n",
       "4795                       bhosari pune\n",
       "4796                      wanowrie pune\n",
       "Name: Locality, Length: 4797, dtype: object"
      ]
     },
     "execution_count": 55,
     "metadata": {},
     "output_type": "execute_result"
    }
   ],
   "source": [
    "df['Locality']"
   ]
  },
  {
   "cell_type": "code",
   "execution_count": 56,
   "id": "d3d38483",
   "metadata": {},
   "outputs": [],
   "source": [
    "#To remove punctuations from the desired column\n",
    "df['Known_for1']=df['Known_for1'].apply(nt.remove_punctuations)\n",
    "\n",
    "#To remove stopwords\n",
    "df['Known_for1']=df['Known_for1'].apply(nt.remove_stopwords)\n",
    "\n",
    "#To lowercase everything\n",
    "df['Known_for1'] = df['Known_for1'].str.lower()"
   ]
  },
  {
   "cell_type": "code",
   "execution_count": 57,
   "id": "3de738f4",
   "metadata": {},
   "outputs": [
    {
     "data": {
      "text/plain": [
       "0       bajra risotto spinach hummus wheat spaghetti h...\n",
       "1       expresso panacota banana nutella crepe new yor...\n",
       "2       chicken minestrone soup crab ravioli ebi tempu...\n",
       "3       trois chocolat chocolate flan mille feuille ch...\n",
       "4       bun paratha pallipalayam kozhi palm sugar vege...\n",
       "                              ...                        \n",
       "4792    bar food north indian fast food italian street...\n",
       "4793    student crowd elaborate menu great portions cu...\n",
       "4794    worth money timely service great portions deli...\n",
       "4795    worth money timely service great portions deli...\n",
       "4796    rooftop ambience good place prices music nice ...\n",
       "Name: Known_for1, Length: 4797, dtype: object"
      ]
     },
     "execution_count": 57,
     "metadata": {},
     "output_type": "execute_result"
    }
   ],
   "source": [
    "df['Known_for1']"
   ]
  },
  {
   "cell_type": "markdown",
   "id": "d3519a7f",
   "metadata": {},
   "source": [
    "- Changing the name of some columns for easy references "
   ]
  },
  {
   "cell_type": "code",
   "execution_count": 58,
   "id": "726d7a5d",
   "metadata": {},
   "outputs": [
    {
     "data": {
      "text/plain": [
       "Index(['Restaurant_Name', 'Category', 'Cost_for_2', 'Locality',\n",
       "       'Dining_Rating', 'Delivery_Rating', 'Website', 'Known_for'],\n",
       "      dtype='object')"
      ]
     },
     "execution_count": 58,
     "metadata": {},
     "output_type": "execute_result"
    }
   ],
   "source": [
    "df = df.rename(columns={'Known_for1':'Known_for','Pricing_for_2':'Cost_for_2',})\n",
    "df.columns"
   ]
  },
  {
   "cell_type": "markdown",
   "id": "cfa4e381",
   "metadata": {},
   "source": [
    "- Populating the mean rating columnn for Dining_Rating"
   ]
  },
  {
   "cell_type": "code",
   "execution_count": 59,
   "id": "b3da9f62",
   "metadata": {},
   "outputs": [],
   "source": [
    "restaurants = list(df['Restaurant_Name'].unique())\n",
    "df['Mean Rating'] = 0\n",
    "\n",
    "for i in range(len(restaurants)):\n",
    "    df['Mean Rating'][df['Restaurant_Name'] == restaurants[i]] = df['Dining_Rating'][df['Restaurant_Name'] == restaurants[i]].mean()"
   ]
  },
  {
   "cell_type": "code",
   "execution_count": 60,
   "id": "54f1139a",
   "metadata": {},
   "outputs": [
    {
     "data": {
      "text/html": [
       "<div>\n",
       "<style scoped>\n",
       "    .dataframe tbody tr th:only-of-type {\n",
       "        vertical-align: middle;\n",
       "    }\n",
       "\n",
       "    .dataframe tbody tr th {\n",
       "        vertical-align: top;\n",
       "    }\n",
       "\n",
       "    .dataframe thead th {\n",
       "        text-align: right;\n",
       "    }\n",
       "</style>\n",
       "<table border=\"1\" class=\"dataframe\">\n",
       "  <thead>\n",
       "    <tr style=\"text-align: right;\">\n",
       "      <th></th>\n",
       "      <th>Restaurant_Name</th>\n",
       "      <th>Category</th>\n",
       "      <th>Cost_for_2</th>\n",
       "      <th>Locality</th>\n",
       "      <th>Dining_Rating</th>\n",
       "      <th>Delivery_Rating</th>\n",
       "      <th>Website</th>\n",
       "      <th>Known_for</th>\n",
       "      <th>Mean Rating</th>\n",
       "    </tr>\n",
       "  </thead>\n",
       "  <tbody>\n",
       "    <tr>\n",
       "      <th>2847</th>\n",
       "      <td>Appetite</td>\n",
       "      <td>north indian chinese italian pizza mughlai</td>\n",
       "      <td>1100</td>\n",
       "      <td>pimpri pune</td>\n",
       "      <td>3.5</td>\n",
       "      <td>3.9</td>\n",
       "      <td>https://www.zomato.com/pune/appetite-pimpri</td>\n",
       "      <td>bar food north indian fast food italian street...</td>\n",
       "      <td>3.5</td>\n",
       "    </tr>\n",
       "    <tr>\n",
       "      <th>1426</th>\n",
       "      <td>Wok Masters</td>\n",
       "      <td>chinese thai asian</td>\n",
       "      <td>800</td>\n",
       "      <td>kharadi pune</td>\n",
       "      <td>3.8</td>\n",
       "      <td>3.6</td>\n",
       "      <td>https://www.zomato.com/pune/wok-masters-kharadi</td>\n",
       "      <td>asian zing pan fried noodles fried rice chicke...</td>\n",
       "      <td>3.8</td>\n",
       "    </tr>\n",
       "    <tr>\n",
       "      <th>4007</th>\n",
       "      <td>Cafe Mastani</td>\n",
       "      <td>fast food beverages street food</td>\n",
       "      <td>350</td>\n",
       "      <td>wadgaon sheri pune</td>\n",
       "      <td>3.3</td>\n",
       "      <td>3.0</td>\n",
       "      <td>https://www.zomato.com/pune/cafe-mastani-wadga...</td>\n",
       "      <td>delicious taste mouth watering food affordable...</td>\n",
       "      <td>3.3</td>\n",
       "    </tr>\n",
       "  </tbody>\n",
       "</table>\n",
       "</div>"
      ],
      "text/plain": [
       "     Restaurant_Name                                    Category  Cost_for_2  \\\n",
       "2847        Appetite  north indian chinese italian pizza mughlai        1100   \n",
       "1426     Wok Masters                          chinese thai asian         800   \n",
       "4007    Cafe Mastani             fast food beverages street food         350   \n",
       "\n",
       "                Locality  Dining_Rating  Delivery_Rating  \\\n",
       "2847         pimpri pune            3.5              3.9   \n",
       "1426        kharadi pune            3.8              3.6   \n",
       "4007  wadgaon sheri pune            3.3              3.0   \n",
       "\n",
       "                                                Website  \\\n",
       "2847        https://www.zomato.com/pune/appetite-pimpri   \n",
       "1426    https://www.zomato.com/pune/wok-masters-kharadi   \n",
       "4007  https://www.zomato.com/pune/cafe-mastani-wadga...   \n",
       "\n",
       "                                              Known_for  Mean Rating  \n",
       "2847  bar food north indian fast food italian street...          3.5  \n",
       "1426  asian zing pan fried noodles fried rice chicke...          3.8  \n",
       "4007  delicious taste mouth watering food affordable...          3.3  "
      ]
     },
     "execution_count": 60,
     "metadata": {},
     "output_type": "execute_result"
    }
   ],
   "source": [
    "df.sample(3)"
   ]
  },
  {
   "cell_type": "markdown",
   "id": "a0a14f24",
   "metadata": {},
   "source": [
    "- As we can see the mean rating column is populated now we can further scale it using min-max scalar"
   ]
  },
  {
   "cell_type": "code",
   "execution_count": 61,
   "id": "6908101b",
   "metadata": {},
   "outputs": [
    {
     "data": {
      "text/html": [
       "<div>\n",
       "<style scoped>\n",
       "    .dataframe tbody tr th:only-of-type {\n",
       "        vertical-align: middle;\n",
       "    }\n",
       "\n",
       "    .dataframe tbody tr th {\n",
       "        vertical-align: top;\n",
       "    }\n",
       "\n",
       "    .dataframe thead th {\n",
       "        text-align: right;\n",
       "    }\n",
       "</style>\n",
       "<table border=\"1\" class=\"dataframe\">\n",
       "  <thead>\n",
       "    <tr style=\"text-align: right;\">\n",
       "      <th></th>\n",
       "      <th>Restaurant_Name</th>\n",
       "      <th>Category</th>\n",
       "      <th>Cost_for_2</th>\n",
       "      <th>Locality</th>\n",
       "      <th>Dining_Rating</th>\n",
       "      <th>Delivery_Rating</th>\n",
       "      <th>Website</th>\n",
       "      <th>Known_for</th>\n",
       "      <th>Mean Rating</th>\n",
       "    </tr>\n",
       "  </thead>\n",
       "  <tbody>\n",
       "    <tr>\n",
       "      <th>3990</th>\n",
       "      <td>Param Panchwati Dining Hall</td>\n",
       "      <td>north indian</td>\n",
       "      <td>200</td>\n",
       "      <td>chakan pune</td>\n",
       "      <td>3.3</td>\n",
       "      <td>3.9</td>\n",
       "      <td>https://www.zomato.com/pune/param-panchwati-di...</td>\n",
       "      <td>italian pizza pasta fast food desserts beverages</td>\n",
       "      <td>1.63</td>\n",
       "    </tr>\n",
       "    <tr>\n",
       "      <th>1062</th>\n",
       "      <td>The Hangout</td>\n",
       "      <td>north indian chinese malwani seafood</td>\n",
       "      <td>1300</td>\n",
       "      <td>wagholi pune</td>\n",
       "      <td>3.9</td>\n",
       "      <td>3.6</td>\n",
       "      <td>https://www.zomato.com/pune/the-hangout-wagholi</td>\n",
       "      <td>relaxed atmosphere privacy awesome service fri...</td>\n",
       "      <td>2.89</td>\n",
       "    </tr>\n",
       "    <tr>\n",
       "      <th>2316</th>\n",
       "      <td>Hotel Maratha Velu</td>\n",
       "      <td>maharashtrian</td>\n",
       "      <td>650</td>\n",
       "      <td>shivapur pune</td>\n",
       "      <td>3.6</td>\n",
       "      <td>3.9</td>\n",
       "      <td>https://www.zomato.com/pune/hotel-maratha-velu...</td>\n",
       "      <td>bar food north indian fast food italian street...</td>\n",
       "      <td>2.26</td>\n",
       "    </tr>\n",
       "  </tbody>\n",
       "</table>\n",
       "</div>"
      ],
      "text/plain": [
       "                  Restaurant_Name                              Category  \\\n",
       "3990  Param Panchwati Dining Hall                          north indian   \n",
       "1062                  The Hangout  north indian chinese malwani seafood   \n",
       "2316           Hotel Maratha Velu                         maharashtrian   \n",
       "\n",
       "      Cost_for_2       Locality  Dining_Rating  Delivery_Rating  \\\n",
       "3990         200    chakan pune            3.3              3.9   \n",
       "1062        1300   wagholi pune            3.9              3.6   \n",
       "2316         650  shivapur pune            3.6              3.9   \n",
       "\n",
       "                                                Website  \\\n",
       "3990  https://www.zomato.com/pune/param-panchwati-di...   \n",
       "1062    https://www.zomato.com/pune/the-hangout-wagholi   \n",
       "2316  https://www.zomato.com/pune/hotel-maratha-velu...   \n",
       "\n",
       "                                              Known_for  Mean Rating  \n",
       "3990   italian pizza pasta fast food desserts beverages         1.63  \n",
       "1062  relaxed atmosphere privacy awesome service fri...         2.89  \n",
       "2316  bar food north indian fast food italian street...         2.26  "
      ]
     },
     "execution_count": 61,
     "metadata": {},
     "output_type": "execute_result"
    }
   ],
   "source": [
    "from sklearn.preprocessing import MinMaxScaler\n",
    "\n",
    "scaler = MinMaxScaler(feature_range = (1,5))\n",
    "\n",
    "df[['Mean Rating']] = scaler.fit_transform(df[['Mean Rating']]).round(2)\n",
    "\n",
    "df.sample(3)"
   ]
  },
  {
   "cell_type": "markdown",
   "id": "d7bb83a2",
   "metadata": {},
   "source": [
    "- Function get_top_words that takes a column, the number of top words to return, and the n-gram range as parameters. \n",
    "- It uses the CountVectorizer from scikit-learn to compute the frequency of words in the column. "
   ]
  },
  {
   "cell_type": "code",
   "execution_count": 62,
   "id": "0bed5a48",
   "metadata": {},
   "outputs": [],
   "source": [
    "from sklearn.metrics.pairwise import cosine_similarity\n",
    "from sklearn.feature_extraction.text import CountVectorizer"
   ]
  },
  {
   "cell_type": "code",
   "execution_count": 63,
   "id": "720b8d1e",
   "metadata": {},
   "outputs": [],
   "source": [
    "def get_top_words(column, top_nu_of_words, nu_of_word):\n",
    "    \n",
    "    vec = CountVectorizer(ngram_range= nu_of_word, stop_words='english')\n",
    "    \n",
    "    bag_of_words = vec.fit_transform(column)\n",
    "    \n",
    "    sum_words = bag_of_words.sum(axis=0)\n",
    "    \n",
    "    words_freq = [(word, sum_words[0, idx]) for word, idx in vec.vocabulary_.items()]\n",
    "    \n",
    "    words_freq =sorted(words_freq, key = lambda x: x[1], reverse=True)\n",
    "    \n",
    "    return words_freq[:top_nu_of_words]"
   ]
  },
  {
   "cell_type": "code",
   "execution_count": 64,
   "id": "e7637c8c",
   "metadata": {},
   "outputs": [
    {
     "data": {
      "text/plain": [
       "[('indian', 3031),\n",
       " ('north', 2503),\n",
       " ('food', 2347),\n",
       " ('chinese', 1976),\n",
       " ('fast', 1535),\n",
       " ('beverages', 1440),\n",
       " ('maharashtrian', 800),\n",
       " ('mughlai', 698),\n",
       " ('desserts', 659),\n",
       " ('street', 646)]"
      ]
     },
     "execution_count": 64,
     "metadata": {},
     "output_type": "execute_result"
    }
   ],
   "source": [
    "get_top_words(df['Category'], 10, (1, 1))"
   ]
  },
  {
   "cell_type": "markdown",
   "id": "06e003d1",
   "metadata": {},
   "source": [
    "- The above output is a list of tuples representing the top 10 words and their corresponding frequencies in the 'Category' column of your DataFrame.\n",
    "- Each tuple consists of a word and its frequency count.\n",
    "- The output shows the top 10 most frequent words in the 'Category' column, along with their respective frequencies. For example:\n",
    "\n",
    "- 'indian' appears 3031 times in the 'Text' column."
   ]
  },
  {
   "cell_type": "code",
   "execution_count": 65,
   "id": "8758a2f5",
   "metadata": {},
   "outputs": [
    {
     "data": {
      "text/plain": [
       "(4797, 9)"
      ]
     },
     "execution_count": 65,
     "metadata": {},
     "output_type": "execute_result"
    }
   ],
   "source": [
    "#sampling the data \n",
    "df_percent = df.sample(frac=1)\n",
    "df_percent.shape"
   ]
  },
  {
   "cell_type": "markdown",
   "id": "0b9f4bd7",
   "metadata": {},
   "source": [
    "- Term Frequency-Inverse Document Frequency\n",
    "- Term Frequency-Inverse Document Frequency (TF-IDF) vectors for each document. This will give you a matrix where each column represents a word in the overview vocabulary (all the words that appear in at least one document) and each column represents a restaurant, as before.\n",
    "- TF-IDF is the statistical method of evaluating the significance of a word in a given document.\n",
    "- TF — Term frequency(tf) refers to how many times a given term appears in a document.\n",
    "- IDF — Inverse document frequency(idf) measures the weight of the word in the document, i.e if the word is common or rare in the entire document. The TF-IDF intuition follows that the terms that appear frequently in a document are less important than terms that rarely appear. Fortunately, scikit-learn gives you a built-in TfIdfVectorizer class that produces the TF-IDF matrix quite easily."
   ]
  },
  {
   "cell_type": "code",
   "execution_count": 66,
   "id": "d91a0e81",
   "metadata": {},
   "outputs": [],
   "source": [
    "df_percent.set_index('Restaurant_Name', inplace=True)"
   ]
  },
  {
   "cell_type": "code",
   "execution_count": 67,
   "id": "a0a723a4",
   "metadata": {},
   "outputs": [
    {
     "data": {
      "text/plain": [
       "0               Mirch Masala Resto Bar\n",
       "1                        Hotel Gayatri\n",
       "2                               Cafe 9\n",
       "3       Jalsa Family Garden Restaurant\n",
       "4          K 9 The Schezwan Restaurant\n",
       "                     ...              \n",
       "4792                       Chalo Dilli\n",
       "4793                 Cafe Unique Table\n",
       "4794              Kabana - Conrad Pune\n",
       "4795                     Hotel Niyamat\n",
       "4796                        Eat's Time\n",
       "Name: Restaurant_Name, Length: 4797, dtype: object"
      ]
     },
     "execution_count": 67,
     "metadata": {},
     "output_type": "execute_result"
    }
   ],
   "source": [
    "indices = pd.Series(df_percent.index)\n",
    "indices"
   ]
  },
  {
   "cell_type": "code",
   "execution_count": 68,
   "id": "c1f9709d",
   "metadata": {},
   "outputs": [],
   "source": [
    "from sklearn.feature_extraction.text import TfidfVectorizer"
   ]
  },
  {
   "cell_type": "code",
   "execution_count": 69,
   "id": "33f63c27",
   "metadata": {},
   "outputs": [],
   "source": [
    "tfidf = TfidfVectorizer(analyzer='word', ngram_range=(1, 2), stop_words='english')\n",
    "tfidf_matrix = tfidf.fit_transform(df_percent['Known_for'])"
   ]
  },
  {
   "cell_type": "markdown",
   "id": "bf4f0945",
   "metadata": {},
   "source": [
    "- Here we've calculated the cosine similarity "
   ]
  },
  {
   "cell_type": "code",
   "execution_count": 70,
   "id": "1298e9fc",
   "metadata": {},
   "outputs": [],
   "source": [
    "cosine_similarities = cosine_similarity(tfidf_matrix, tfidf_matrix)"
   ]
  },
  {
   "cell_type": "code",
   "execution_count": 71,
   "id": "9333d89b",
   "metadata": {},
   "outputs": [
    {
     "data": {
      "text/plain": [
       "array([[1.        , 0.0212056 , 0.0212056 , ..., 0.        , 0.00750353,\n",
       "        0.00316495],\n",
       "       [0.0212056 , 1.        , 1.        , ..., 0.        , 0.26523737,\n",
       "        0.02735268],\n",
       "       [0.0212056 , 1.        , 1.        , ..., 0.        , 0.26523737,\n",
       "        0.02735268],\n",
       "       ...,\n",
       "       [0.        , 0.        , 0.        , ..., 1.        , 0.        ,\n",
       "        0.        ],\n",
       "       [0.00750353, 0.26523737, 0.26523737, ..., 0.        , 1.        ,\n",
       "        0.00967866],\n",
       "       [0.00316495, 0.02735268, 0.02735268, ..., 0.        , 0.00967866,\n",
       "        1.        ]])"
      ]
     },
     "execution_count": 71,
     "metadata": {},
     "output_type": "execute_result"
    }
   ],
   "source": [
    "cosine_similarities"
   ]
  },
  {
   "cell_type": "markdown",
   "id": "b5b5d812",
   "metadata": {},
   "source": [
    "- This is the recommend function which calculates cosine similarity after the restaurant name is put on and then recommends top 5 restaurants by cosine similarity scores "
   ]
  },
  {
   "cell_type": "code",
   "execution_count": 87,
   "id": "27fb4513",
   "metadata": {},
   "outputs": [],
   "source": [
    "def recommend(name, cosine_similarities = cosine_similarities):\n",
    "    \n",
    "    # Create a list to put top 10 restaurants\n",
    "    recommend_restaurant = []\n",
    "    \n",
    "    # Find the index of the hotel entered\n",
    "    idx = indices[indices == name].index[0]\n",
    "    \n",
    "    # Find the restaurants with a similar cosine-sim value and order them from bigges number\n",
    "    score_series = pd.Series(cosine_similarities[idx]).sort_values(ascending=False)\n",
    "    \n",
    "    # Extract top 30 restaurant indexes with a similar cosine-sim value\n",
    "    top30_indexes = list(score_series.iloc[0:31].index)\n",
    "    \n",
    "    # Names of the top 30 restaurants\n",
    "    for each in top30_indexes:\n",
    "        recommend_restaurant.append(list(df_percent.index)[each])\n",
    "    \n",
    "    # Creating the new data set to show similar restaurants\n",
    "    \n",
    "    # Create the top 30 similar restaurants with some of their columns without append method\n",
    "    categories = []\n",
    "    mean_ratings = []\n",
    "    cost_for_2s = []\n",
    "    delivery_ratings = []\n",
    "    websites = []\n",
    "\n",
    "    for each in top30_indexes:\n",
    "        categories.append(df_percent['Category'].iloc[each])\n",
    "        mean_ratings.append(df_percent['Mean Rating'].iloc[each])\n",
    "        cost_for_2s.append(df_percent['Cost_for_2'].iloc[each])\n",
    "        delivery_ratings.append(df_percent['Delivery_Rating'].iloc[each])\n",
    "        websites.append(df_percent['Website'].iloc[each])\n",
    "        pass\n",
    "\n",
    "    df_new = pd.DataFrame({'Category': categories,'Mean Rating': mean_ratings,'Cost_for_2': cost_for_2s,'Delivery_Rating': delivery_ratings,'Website': websites})\n",
    "\n",
    "    # Drop the same named restaurants and sort only the top 10 by the highest rating\n",
    "    df_new = df_new.drop_duplicates(subset=['Category', 'Mean Rating', 'Cost_for_2','Delivery_Rating', 'Website'], keep=False)\n",
    "    df_new = df_new.sort_values(by='Mean Rating', ascending=False).head(5)\n",
    "    \n",
    "    print('TOP %s RESTAURANTS LIKE %s WITH SIMILAR REVIEWS: ' % (str(len(df_new)), name))\n",
    "    \n",
    "    return df_new"
   ]
  },
  {
   "cell_type": "markdown",
   "id": "15aa3cfe",
   "metadata": {},
   "source": [
    "- Here I've tried & applied the function and it works nicely"
   ]
  },
  {
   "cell_type": "code",
   "execution_count": 88,
   "id": "78cdf5b5",
   "metadata": {},
   "outputs": [
    {
     "name": "stdout",
     "output_type": "stream",
     "text": [
      "TOP 5 RESTAURANTS LIKE Burger King WITH SIMILAR REVIEWS: \n"
     ]
    },
    {
     "data": {
      "text/html": [
       "<div>\n",
       "<style scoped>\n",
       "    .dataframe tbody tr th:only-of-type {\n",
       "        vertical-align: middle;\n",
       "    }\n",
       "\n",
       "    .dataframe tbody tr th {\n",
       "        vertical-align: top;\n",
       "    }\n",
       "\n",
       "    .dataframe thead th {\n",
       "        text-align: right;\n",
       "    }\n",
       "</style>\n",
       "<table border=\"1\" class=\"dataframe\">\n",
       "  <thead>\n",
       "    <tr style=\"text-align: right;\">\n",
       "      <th></th>\n",
       "      <th>Category</th>\n",
       "      <th>Mean Rating</th>\n",
       "      <th>Cost_for_2</th>\n",
       "      <th>Delivery_Rating</th>\n",
       "      <th>Website</th>\n",
       "    </tr>\n",
       "  </thead>\n",
       "  <tbody>\n",
       "    <tr>\n",
       "      <th>16</th>\n",
       "      <td>south indian street food fast food north india...</td>\n",
       "      <td>3.95</td>\n",
       "      <td>700</td>\n",
       "      <td>4.1</td>\n",
       "      <td>https://www.zomato.com/pune/ram-krishna-camp-area</td>\n",
       "    </tr>\n",
       "    <tr>\n",
       "      <th>10</th>\n",
       "      <td>bakery</td>\n",
       "      <td>3.74</td>\n",
       "      <td>300</td>\n",
       "      <td>3.9</td>\n",
       "      <td>https://www.zomato.com/pune/cake-n-counter-eas...</td>\n",
       "    </tr>\n",
       "    <tr>\n",
       "      <th>18</th>\n",
       "      <td>beverages desserts ice cream</td>\n",
       "      <td>3.74</td>\n",
       "      <td>400</td>\n",
       "      <td>4.2</td>\n",
       "      <td>https://www.zomato.com/pune/frozen-bottle-2-fc...</td>\n",
       "    </tr>\n",
       "    <tr>\n",
       "      <th>15</th>\n",
       "      <td>north indian chinese mughlai biryani kebab</td>\n",
       "      <td>3.53</td>\n",
       "      <td>700</td>\n",
       "      <td>3.6</td>\n",
       "      <td>https://www.zomato.com/apnapunjab</td>\n",
       "    </tr>\n",
       "    <tr>\n",
       "      <th>25</th>\n",
       "      <td>north indian continental finger food italian b...</td>\n",
       "      <td>3.53</td>\n",
       "      <td>1500</td>\n",
       "      <td>3.9</td>\n",
       "      <td>https://www.zomato.com/pune/ttf-the-tenth-floo...</td>\n",
       "    </tr>\n",
       "  </tbody>\n",
       "</table>\n",
       "</div>"
      ],
      "text/plain": [
       "                                             Category  Mean Rating  \\\n",
       "16  south indian street food fast food north india...         3.95   \n",
       "10                                             bakery         3.74   \n",
       "18                       beverages desserts ice cream         3.74   \n",
       "15         north indian chinese mughlai biryani kebab         3.53   \n",
       "25  north indian continental finger food italian b...         3.53   \n",
       "\n",
       "    Cost_for_2  Delivery_Rating  \\\n",
       "16         700              4.1   \n",
       "10         300              3.9   \n",
       "18         400              4.2   \n",
       "15         700              3.6   \n",
       "25        1500              3.9   \n",
       "\n",
       "                                              Website  \n",
       "16  https://www.zomato.com/pune/ram-krishna-camp-area  \n",
       "10  https://www.zomato.com/pune/cake-n-counter-eas...  \n",
       "18  https://www.zomato.com/pune/frozen-bottle-2-fc...  \n",
       "15                  https://www.zomato.com/apnapunjab  \n",
       "25  https://www.zomato.com/pune/ttf-the-tenth-floo...  "
      ]
     },
     "execution_count": 88,
     "metadata": {},
     "output_type": "execute_result"
    }
   ],
   "source": [
    "recommend(\"Burger King\")"
   ]
  }
 ],
 "metadata": {
  "kernelspec": {
   "display_name": "Python 3 (ipykernel)",
   "language": "python",
   "name": "python3"
  },
  "language_info": {
   "codemirror_mode": {
    "name": "ipython",
    "version": 3
   },
   "file_extension": ".py",
   "mimetype": "text/x-python",
   "name": "python",
   "nbconvert_exporter": "python",
   "pygments_lexer": "ipython3",
   "version": "3.10.11"
  }
 },
 "nbformat": 4,
 "nbformat_minor": 5
}
